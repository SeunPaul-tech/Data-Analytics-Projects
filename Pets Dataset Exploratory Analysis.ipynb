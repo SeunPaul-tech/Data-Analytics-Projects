{
 "cells": [
  {
   "cell_type": "markdown",
   "id": "8284f763-c865-4661-8f6f-8ecf1a4d7565",
   "metadata": {},
   "source": [
    "<center><b><font color='navy', size=5>Pet Supplies Analytic Project</font></b></center>"
   ]
  },
  {
   "cell_type": "code",
   "execution_count": 140,
   "id": "d3f93529-4686-4a86-8f0a-925780695b54",
   "metadata": {},
   "outputs": [],
   "source": [
    "import pandas as pd"
   ]
  },
  {
   "cell_type": "code",
   "execution_count": 141,
   "id": "6137b33d-bc43-4d83-9bd1-378825db26c4",
   "metadata": {},
   "outputs": [],
   "source": [
    "pets = pd.read_csv(\"pet_supplies.csv\")"
   ]
  },
  {
   "cell_type": "code",
   "execution_count": 142,
   "id": "6178708d-8cf3-4272-a40a-d434d297f304",
   "metadata": {},
   "outputs": [
    {
     "data": {
      "text/html": [
       "<div>\n",
       "<style scoped>\n",
       "    .dataframe tbody tr th:only-of-type {\n",
       "        vertical-align: middle;\n",
       "    }\n",
       "\n",
       "    .dataframe tbody tr th {\n",
       "        vertical-align: top;\n",
       "    }\n",
       "\n",
       "    .dataframe thead th {\n",
       "        text-align: right;\n",
       "    }\n",
       "</style>\n",
       "<table border=\"1\" class=\"dataframe\">\n",
       "  <thead>\n",
       "    <tr style=\"text-align: right;\">\n",
       "      <th></th>\n",
       "      <th>product_id</th>\n",
       "      <th>category</th>\n",
       "      <th>animal</th>\n",
       "      <th>size</th>\n",
       "      <th>price</th>\n",
       "      <th>sales</th>\n",
       "      <th>rating</th>\n",
       "      <th>repeat_purchase</th>\n",
       "    </tr>\n",
       "  </thead>\n",
       "  <tbody>\n",
       "    <tr>\n",
       "      <th>0</th>\n",
       "      <td>1</td>\n",
       "      <td>Food</td>\n",
       "      <td>Bird</td>\n",
       "      <td>large</td>\n",
       "      <td>51.1</td>\n",
       "      <td>1860.62</td>\n",
       "      <td>7.0</td>\n",
       "      <td>1</td>\n",
       "    </tr>\n",
       "    <tr>\n",
       "      <th>1</th>\n",
       "      <td>2</td>\n",
       "      <td>Housing</td>\n",
       "      <td>Bird</td>\n",
       "      <td>MEDIUM</td>\n",
       "      <td>35.98</td>\n",
       "      <td>963.60</td>\n",
       "      <td>6.0</td>\n",
       "      <td>0</td>\n",
       "    </tr>\n",
       "    <tr>\n",
       "      <th>2</th>\n",
       "      <td>3</td>\n",
       "      <td>Food</td>\n",
       "      <td>Dog</td>\n",
       "      <td>medium</td>\n",
       "      <td>31.23</td>\n",
       "      <td>898.30</td>\n",
       "      <td>5.0</td>\n",
       "      <td>1</td>\n",
       "    </tr>\n",
       "    <tr>\n",
       "      <th>3</th>\n",
       "      <td>4</td>\n",
       "      <td>Medicine</td>\n",
       "      <td>Cat</td>\n",
       "      <td>small</td>\n",
       "      <td>24.95</td>\n",
       "      <td>982.15</td>\n",
       "      <td>6.0</td>\n",
       "      <td>1</td>\n",
       "    </tr>\n",
       "    <tr>\n",
       "      <th>4</th>\n",
       "      <td>5</td>\n",
       "      <td>Housing</td>\n",
       "      <td>Cat</td>\n",
       "      <td>Small</td>\n",
       "      <td>26.18</td>\n",
       "      <td>832.63</td>\n",
       "      <td>7.0</td>\n",
       "      <td>1</td>\n",
       "    </tr>\n",
       "    <tr>\n",
       "      <th>...</th>\n",
       "      <td>...</td>\n",
       "      <td>...</td>\n",
       "      <td>...</td>\n",
       "      <td>...</td>\n",
       "      <td>...</td>\n",
       "      <td>...</td>\n",
       "      <td>...</td>\n",
       "      <td>...</td>\n",
       "    </tr>\n",
       "    <tr>\n",
       "      <th>1495</th>\n",
       "      <td>1496</td>\n",
       "      <td>Food</td>\n",
       "      <td>Bird</td>\n",
       "      <td>medium</td>\n",
       "      <td>40.91</td>\n",
       "      <td>1203.36</td>\n",
       "      <td>5.0</td>\n",
       "      <td>0</td>\n",
       "    </tr>\n",
       "    <tr>\n",
       "      <th>1496</th>\n",
       "      <td>1497</td>\n",
       "      <td>Equipment</td>\n",
       "      <td>Dog</td>\n",
       "      <td>small</td>\n",
       "      <td>32.89</td>\n",
       "      <td>1099.97</td>\n",
       "      <td>5.0</td>\n",
       "      <td>0</td>\n",
       "    </tr>\n",
       "    <tr>\n",
       "      <th>1497</th>\n",
       "      <td>1498</td>\n",
       "      <td>Food</td>\n",
       "      <td>Fish</td>\n",
       "      <td>Small</td>\n",
       "      <td>25.79</td>\n",
       "      <td>724.02</td>\n",
       "      <td>3.0</td>\n",
       "      <td>0</td>\n",
       "    </tr>\n",
       "    <tr>\n",
       "      <th>1498</th>\n",
       "      <td>1499</td>\n",
       "      <td>Medicine</td>\n",
       "      <td>Fish</td>\n",
       "      <td>small</td>\n",
       "      <td>19.94</td>\n",
       "      <td>658.66</td>\n",
       "      <td>5.0</td>\n",
       "      <td>1</td>\n",
       "    </tr>\n",
       "    <tr>\n",
       "      <th>1499</th>\n",
       "      <td>1500</td>\n",
       "      <td>Food</td>\n",
       "      <td>Cat</td>\n",
       "      <td>Medium</td>\n",
       "      <td>25.95</td>\n",
       "      <td>826.08</td>\n",
       "      <td>4.0</td>\n",
       "      <td>1</td>\n",
       "    </tr>\n",
       "  </tbody>\n",
       "</table>\n",
       "<p>1500 rows × 8 columns</p>\n",
       "</div>"
      ],
      "text/plain": [
       "      product_id   category animal    size  price    sales  rating  \\\n",
       "0              1       Food   Bird   large   51.1  1860.62     7.0   \n",
       "1              2    Housing   Bird  MEDIUM  35.98   963.60     6.0   \n",
       "2              3       Food    Dog  medium  31.23   898.30     5.0   \n",
       "3              4   Medicine    Cat   small  24.95   982.15     6.0   \n",
       "4              5    Housing    Cat   Small  26.18   832.63     7.0   \n",
       "...          ...        ...    ...     ...    ...      ...     ...   \n",
       "1495        1496       Food   Bird  medium  40.91  1203.36     5.0   \n",
       "1496        1497  Equipment    Dog   small  32.89  1099.97     5.0   \n",
       "1497        1498       Food   Fish   Small  25.79   724.02     3.0   \n",
       "1498        1499   Medicine   Fish   small  19.94   658.66     5.0   \n",
       "1499        1500       Food    Cat  Medium  25.95   826.08     4.0   \n",
       "\n",
       "      repeat_purchase  \n",
       "0                   1  \n",
       "1                   0  \n",
       "2                   1  \n",
       "3                   1  \n",
       "4                   1  \n",
       "...               ...  \n",
       "1495                0  \n",
       "1496                0  \n",
       "1497                0  \n",
       "1498                1  \n",
       "1499                1  \n",
       "\n",
       "[1500 rows x 8 columns]"
      ]
     },
     "execution_count": 142,
     "metadata": {},
     "output_type": "execute_result"
    }
   ],
   "source": [
    "pets"
   ]
  },
  {
   "cell_type": "code",
   "execution_count": 143,
   "id": "db1d5b05-a414-4839-a9e4-b7b8d4611540",
   "metadata": {},
   "outputs": [
    {
     "data": {
      "text/html": [
       "<div>\n",
       "<style scoped>\n",
       "    .dataframe tbody tr th:only-of-type {\n",
       "        vertical-align: middle;\n",
       "    }\n",
       "\n",
       "    .dataframe tbody tr th {\n",
       "        vertical-align: top;\n",
       "    }\n",
       "\n",
       "    .dataframe thead th {\n",
       "        text-align: right;\n",
       "    }\n",
       "</style>\n",
       "<table border=\"1\" class=\"dataframe\">\n",
       "  <thead>\n",
       "    <tr style=\"text-align: right;\">\n",
       "      <th></th>\n",
       "      <th>product_id</th>\n",
       "      <th>category</th>\n",
       "      <th>animal</th>\n",
       "      <th>size</th>\n",
       "      <th>price</th>\n",
       "      <th>sales</th>\n",
       "      <th>rating</th>\n",
       "      <th>repeat_purchase</th>\n",
       "    </tr>\n",
       "  </thead>\n",
       "  <tbody>\n",
       "    <tr>\n",
       "      <th>0</th>\n",
       "      <td>1</td>\n",
       "      <td>Food</td>\n",
       "      <td>Bird</td>\n",
       "      <td>large</td>\n",
       "      <td>51.1</td>\n",
       "      <td>1860.62</td>\n",
       "      <td>7.0</td>\n",
       "      <td>1</td>\n",
       "    </tr>\n",
       "    <tr>\n",
       "      <th>1</th>\n",
       "      <td>2</td>\n",
       "      <td>Housing</td>\n",
       "      <td>Bird</td>\n",
       "      <td>MEDIUM</td>\n",
       "      <td>35.98</td>\n",
       "      <td>963.60</td>\n",
       "      <td>6.0</td>\n",
       "      <td>0</td>\n",
       "    </tr>\n",
       "    <tr>\n",
       "      <th>2</th>\n",
       "      <td>3</td>\n",
       "      <td>Food</td>\n",
       "      <td>Dog</td>\n",
       "      <td>medium</td>\n",
       "      <td>31.23</td>\n",
       "      <td>898.30</td>\n",
       "      <td>5.0</td>\n",
       "      <td>1</td>\n",
       "    </tr>\n",
       "    <tr>\n",
       "      <th>3</th>\n",
       "      <td>4</td>\n",
       "      <td>Medicine</td>\n",
       "      <td>Cat</td>\n",
       "      <td>small</td>\n",
       "      <td>24.95</td>\n",
       "      <td>982.15</td>\n",
       "      <td>6.0</td>\n",
       "      <td>1</td>\n",
       "    </tr>\n",
       "    <tr>\n",
       "      <th>4</th>\n",
       "      <td>5</td>\n",
       "      <td>Housing</td>\n",
       "      <td>Cat</td>\n",
       "      <td>Small</td>\n",
       "      <td>26.18</td>\n",
       "      <td>832.63</td>\n",
       "      <td>7.0</td>\n",
       "      <td>1</td>\n",
       "    </tr>\n",
       "    <tr>\n",
       "      <th>5</th>\n",
       "      <td>6</td>\n",
       "      <td>Housing</td>\n",
       "      <td>Dog</td>\n",
       "      <td>Small</td>\n",
       "      <td>30.77</td>\n",
       "      <td>874.58</td>\n",
       "      <td>7.0</td>\n",
       "      <td>0</td>\n",
       "    </tr>\n",
       "    <tr>\n",
       "      <th>6</th>\n",
       "      <td>7</td>\n",
       "      <td>Housing</td>\n",
       "      <td>Dog</td>\n",
       "      <td>Small</td>\n",
       "      <td>31.04</td>\n",
       "      <td>875.07</td>\n",
       "      <td>5.0</td>\n",
       "      <td>0</td>\n",
       "    </tr>\n",
       "    <tr>\n",
       "      <th>7</th>\n",
       "      <td>8</td>\n",
       "      <td>Toys</td>\n",
       "      <td>Cat</td>\n",
       "      <td>medium</td>\n",
       "      <td>28.9</td>\n",
       "      <td>1074.31</td>\n",
       "      <td>4.0</td>\n",
       "      <td>0</td>\n",
       "    </tr>\n",
       "  </tbody>\n",
       "</table>\n",
       "</div>"
      ],
      "text/plain": [
       "   product_id  category animal    size  price    sales  rating  \\\n",
       "0           1      Food   Bird   large   51.1  1860.62     7.0   \n",
       "1           2   Housing   Bird  MEDIUM  35.98   963.60     6.0   \n",
       "2           3      Food    Dog  medium  31.23   898.30     5.0   \n",
       "3           4  Medicine    Cat   small  24.95   982.15     6.0   \n",
       "4           5   Housing    Cat   Small  26.18   832.63     7.0   \n",
       "5           6   Housing    Dog   Small  30.77   874.58     7.0   \n",
       "6           7   Housing    Dog   Small  31.04   875.07     5.0   \n",
       "7           8      Toys    Cat  medium   28.9  1074.31     4.0   \n",
       "\n",
       "   repeat_purchase  \n",
       "0                1  \n",
       "1                0  \n",
       "2                1  \n",
       "3                1  \n",
       "4                1  \n",
       "5                0  \n",
       "6                0  \n",
       "7                0  "
      ]
     },
     "execution_count": 143,
     "metadata": {},
     "output_type": "execute_result"
    }
   ],
   "source": [
    "pets.head(8)"
   ]
  },
  {
   "cell_type": "code",
   "execution_count": 144,
   "id": "6fadc7fa-cfca-4985-83a3-39a2f5f4fa70",
   "metadata": {},
   "outputs": [
    {
     "data": {
      "text/html": [
       "<div>\n",
       "<style scoped>\n",
       "    .dataframe tbody tr th:only-of-type {\n",
       "        vertical-align: middle;\n",
       "    }\n",
       "\n",
       "    .dataframe tbody tr th {\n",
       "        vertical-align: top;\n",
       "    }\n",
       "\n",
       "    .dataframe thead th {\n",
       "        text-align: right;\n",
       "    }\n",
       "</style>\n",
       "<table border=\"1\" class=\"dataframe\">\n",
       "  <thead>\n",
       "    <tr style=\"text-align: right;\">\n",
       "      <th></th>\n",
       "      <th>product_id</th>\n",
       "      <th>category</th>\n",
       "      <th>animal</th>\n",
       "      <th>size</th>\n",
       "      <th>price</th>\n",
       "      <th>sales</th>\n",
       "      <th>rating</th>\n",
       "      <th>repeat_purchase</th>\n",
       "    </tr>\n",
       "  </thead>\n",
       "  <tbody>\n",
       "    <tr>\n",
       "      <th>1492</th>\n",
       "      <td>1493</td>\n",
       "      <td>Medicine</td>\n",
       "      <td>Cat</td>\n",
       "      <td>SMALL</td>\n",
       "      <td>24.95</td>\n",
       "      <td>993.08</td>\n",
       "      <td>7.0</td>\n",
       "      <td>1</td>\n",
       "    </tr>\n",
       "    <tr>\n",
       "      <th>1493</th>\n",
       "      <td>1494</td>\n",
       "      <td>Housing</td>\n",
       "      <td>Fish</td>\n",
       "      <td>small</td>\n",
       "      <td>21</td>\n",
       "      <td>535.90</td>\n",
       "      <td>3.0</td>\n",
       "      <td>1</td>\n",
       "    </tr>\n",
       "    <tr>\n",
       "      <th>1494</th>\n",
       "      <td>1495</td>\n",
       "      <td>Medicine</td>\n",
       "      <td>Bird</td>\n",
       "      <td>Small</td>\n",
       "      <td>39.96</td>\n",
       "      <td>1478.99</td>\n",
       "      <td>3.0</td>\n",
       "      <td>0</td>\n",
       "    </tr>\n",
       "    <tr>\n",
       "      <th>1495</th>\n",
       "      <td>1496</td>\n",
       "      <td>Food</td>\n",
       "      <td>Bird</td>\n",
       "      <td>medium</td>\n",
       "      <td>40.91</td>\n",
       "      <td>1203.36</td>\n",
       "      <td>5.0</td>\n",
       "      <td>0</td>\n",
       "    </tr>\n",
       "    <tr>\n",
       "      <th>1496</th>\n",
       "      <td>1497</td>\n",
       "      <td>Equipment</td>\n",
       "      <td>Dog</td>\n",
       "      <td>small</td>\n",
       "      <td>32.89</td>\n",
       "      <td>1099.97</td>\n",
       "      <td>5.0</td>\n",
       "      <td>0</td>\n",
       "    </tr>\n",
       "    <tr>\n",
       "      <th>1497</th>\n",
       "      <td>1498</td>\n",
       "      <td>Food</td>\n",
       "      <td>Fish</td>\n",
       "      <td>Small</td>\n",
       "      <td>25.79</td>\n",
       "      <td>724.02</td>\n",
       "      <td>3.0</td>\n",
       "      <td>0</td>\n",
       "    </tr>\n",
       "    <tr>\n",
       "      <th>1498</th>\n",
       "      <td>1499</td>\n",
       "      <td>Medicine</td>\n",
       "      <td>Fish</td>\n",
       "      <td>small</td>\n",
       "      <td>19.94</td>\n",
       "      <td>658.66</td>\n",
       "      <td>5.0</td>\n",
       "      <td>1</td>\n",
       "    </tr>\n",
       "    <tr>\n",
       "      <th>1499</th>\n",
       "      <td>1500</td>\n",
       "      <td>Food</td>\n",
       "      <td>Cat</td>\n",
       "      <td>Medium</td>\n",
       "      <td>25.95</td>\n",
       "      <td>826.08</td>\n",
       "      <td>4.0</td>\n",
       "      <td>1</td>\n",
       "    </tr>\n",
       "  </tbody>\n",
       "</table>\n",
       "</div>"
      ],
      "text/plain": [
       "      product_id   category animal    size  price    sales  rating  \\\n",
       "1492        1493   Medicine    Cat   SMALL  24.95   993.08     7.0   \n",
       "1493        1494    Housing   Fish   small     21   535.90     3.0   \n",
       "1494        1495   Medicine   Bird   Small  39.96  1478.99     3.0   \n",
       "1495        1496       Food   Bird  medium  40.91  1203.36     5.0   \n",
       "1496        1497  Equipment    Dog   small  32.89  1099.97     5.0   \n",
       "1497        1498       Food   Fish   Small  25.79   724.02     3.0   \n",
       "1498        1499   Medicine   Fish   small  19.94   658.66     5.0   \n",
       "1499        1500       Food    Cat  Medium  25.95   826.08     4.0   \n",
       "\n",
       "      repeat_purchase  \n",
       "1492                1  \n",
       "1493                1  \n",
       "1494                0  \n",
       "1495                0  \n",
       "1496                0  \n",
       "1497                0  \n",
       "1498                1  \n",
       "1499                1  "
      ]
     },
     "execution_count": 144,
     "metadata": {},
     "output_type": "execute_result"
    }
   ],
   "source": [
    "pets.tail(8)"
   ]
  },
  {
   "cell_type": "code",
   "execution_count": 145,
   "id": "dcfabad7-99bd-4a0f-9ad4-f17ba4a41d1c",
   "metadata": {},
   "outputs": [
    {
     "name": "stdout",
     "output_type": "stream",
     "text": [
      "<class 'pandas.core.frame.DataFrame'>\n",
      "RangeIndex: 1500 entries, 0 to 1499\n",
      "Data columns (total 8 columns):\n",
      " #   Column           Non-Null Count  Dtype  \n",
      "---  ------           --------------  -----  \n",
      " 0   product_id       1500 non-null   int64  \n",
      " 1   category         1500 non-null   object \n",
      " 2   animal           1500 non-null   object \n",
      " 3   size             1500 non-null   object \n",
      " 4   price            1500 non-null   object \n",
      " 5   sales            1500 non-null   float64\n",
      " 6   rating           1350 non-null   float64\n",
      " 7   repeat_purchase  1500 non-null   int64  \n",
      "dtypes: float64(2), int64(2), object(4)\n",
      "memory usage: 93.9+ KB\n"
     ]
    }
   ],
   "source": [
    "pets.info()"
   ]
  },
  {
   "cell_type": "markdown",
   "id": "2604d92c-a2b9-4096-a949-c71b9d0cbc46",
   "metadata": {},
   "source": [
    "From the summary info, all the columns are free of null values except the rating table which only has 1,350 non-null values out of 1500. \n",
    "In addition, price is an object instead of being a float or integer, that's kinda weird. In all, we have two ints, two floats and four objects"
   ]
  },
  {
   "cell_type": "code",
   "execution_count": 146,
   "id": "545052be-9ae4-4a2c-b860-f5872c995d7a",
   "metadata": {},
   "outputs": [
    {
     "data": {
      "text/html": [
       "<div>\n",
       "<style scoped>\n",
       "    .dataframe tbody tr th:only-of-type {\n",
       "        vertical-align: middle;\n",
       "    }\n",
       "\n",
       "    .dataframe tbody tr th {\n",
       "        vertical-align: top;\n",
       "    }\n",
       "\n",
       "    .dataframe thead th {\n",
       "        text-align: right;\n",
       "    }\n",
       "</style>\n",
       "<table border=\"1\" class=\"dataframe\">\n",
       "  <thead>\n",
       "    <tr style=\"text-align: right;\">\n",
       "      <th></th>\n",
       "      <th>category</th>\n",
       "      <th>animal</th>\n",
       "      <th>size</th>\n",
       "      <th>price</th>\n",
       "    </tr>\n",
       "  </thead>\n",
       "  <tbody>\n",
       "    <tr>\n",
       "      <th>count</th>\n",
       "      <td>1500</td>\n",
       "      <td>1500</td>\n",
       "      <td>1500</td>\n",
       "      <td>1500</td>\n",
       "    </tr>\n",
       "    <tr>\n",
       "      <th>unique</th>\n",
       "      <td>7</td>\n",
       "      <td>4</td>\n",
       "      <td>9</td>\n",
       "      <td>707</td>\n",
       "    </tr>\n",
       "    <tr>\n",
       "      <th>top</th>\n",
       "      <td>Equipment</td>\n",
       "      <td>Cat</td>\n",
       "      <td>small</td>\n",
       "      <td>unlisted</td>\n",
       "    </tr>\n",
       "    <tr>\n",
       "      <th>freq</th>\n",
       "      <td>370</td>\n",
       "      <td>567</td>\n",
       "      <td>372</td>\n",
       "      <td>150</td>\n",
       "    </tr>\n",
       "  </tbody>\n",
       "</table>\n",
       "</div>"
      ],
      "text/plain": [
       "         category animal   size     price\n",
       "count        1500   1500   1500      1500\n",
       "unique          7      4      9       707\n",
       "top     Equipment    Cat  small  unlisted\n",
       "freq          370    567    372       150"
      ]
     },
     "execution_count": 146,
     "metadata": {},
     "output_type": "execute_result"
    }
   ],
   "source": [
    "pets.describe(include=[object])"
   ]
  },
  {
   "cell_type": "markdown",
   "id": "010cbbb6-438e-4b90-951f-ea2c882e070f",
   "metadata": {},
   "source": [
    "The result of the description of this pets dataframe is that, the Category column has seven unique values instead of six, Animal has four, \n",
    "size had nine instead of three as stated in the data description, while price has 707."
   ]
  },
  {
   "cell_type": "code",
   "execution_count": 147,
   "id": "ec2f2bca-055e-401b-9f46-a4000e1ae374",
   "metadata": {},
   "outputs": [
    {
     "data": {
      "text/html": [
       "<div>\n",
       "<style scoped>\n",
       "    .dataframe tbody tr th:only-of-type {\n",
       "        vertical-align: middle;\n",
       "    }\n",
       "\n",
       "    .dataframe tbody tr th {\n",
       "        vertical-align: top;\n",
       "    }\n",
       "\n",
       "    .dataframe thead th {\n",
       "        text-align: right;\n",
       "    }\n",
       "</style>\n",
       "<table border=\"1\" class=\"dataframe\">\n",
       "  <thead>\n",
       "    <tr style=\"text-align: right;\">\n",
       "      <th></th>\n",
       "      <th>product_id</th>\n",
       "      <th>sales</th>\n",
       "      <th>rating</th>\n",
       "      <th>repeat_purchase</th>\n",
       "    </tr>\n",
       "  </thead>\n",
       "  <tbody>\n",
       "    <tr>\n",
       "      <th>count</th>\n",
       "      <td>1500.000000</td>\n",
       "      <td>1500.000000</td>\n",
       "      <td>1350.000000</td>\n",
       "      <td>1500.000000</td>\n",
       "    </tr>\n",
       "    <tr>\n",
       "      <th>mean</th>\n",
       "      <td>750.500000</td>\n",
       "      <td>996.597847</td>\n",
       "      <td>4.991111</td>\n",
       "      <td>0.604000</td>\n",
       "    </tr>\n",
       "    <tr>\n",
       "      <th>std</th>\n",
       "      <td>433.157015</td>\n",
       "      <td>323.952676</td>\n",
       "      <td>1.559755</td>\n",
       "      <td>0.489228</td>\n",
       "    </tr>\n",
       "    <tr>\n",
       "      <th>min</th>\n",
       "      <td>1.000000</td>\n",
       "      <td>286.940000</td>\n",
       "      <td>1.000000</td>\n",
       "      <td>0.000000</td>\n",
       "    </tr>\n",
       "    <tr>\n",
       "      <th>25%</th>\n",
       "      <td>375.750000</td>\n",
       "      <td>747.420000</td>\n",
       "      <td>4.000000</td>\n",
       "      <td>0.000000</td>\n",
       "    </tr>\n",
       "    <tr>\n",
       "      <th>50%</th>\n",
       "      <td>750.500000</td>\n",
       "      <td>1000.830000</td>\n",
       "      <td>5.000000</td>\n",
       "      <td>1.000000</td>\n",
       "    </tr>\n",
       "    <tr>\n",
       "      <th>75%</th>\n",
       "      <td>1125.250000</td>\n",
       "      <td>1158.157500</td>\n",
       "      <td>6.000000</td>\n",
       "      <td>1.000000</td>\n",
       "    </tr>\n",
       "    <tr>\n",
       "      <th>max</th>\n",
       "      <td>1500.000000</td>\n",
       "      <td>2255.960000</td>\n",
       "      <td>9.000000</td>\n",
       "      <td>1.000000</td>\n",
       "    </tr>\n",
       "  </tbody>\n",
       "</table>\n",
       "</div>"
      ],
      "text/plain": [
       "        product_id        sales       rating  repeat_purchase\n",
       "count  1500.000000  1500.000000  1350.000000      1500.000000\n",
       "mean    750.500000   996.597847     4.991111         0.604000\n",
       "std     433.157015   323.952676     1.559755         0.489228\n",
       "min       1.000000   286.940000     1.000000         0.000000\n",
       "25%     375.750000   747.420000     4.000000         0.000000\n",
       "50%     750.500000  1000.830000     5.000000         1.000000\n",
       "75%    1125.250000  1158.157500     6.000000         1.000000\n",
       "max    1500.000000  2255.960000     9.000000         1.000000"
      ]
     },
     "execution_count": 147,
     "metadata": {},
     "output_type": "execute_result"
    }
   ],
   "source": [
    "pets.describe()"
   ]
  },
  {
   "cell_type": "code",
   "execution_count": 148,
   "id": "03d9e8b5-9782-4647-8816-3d8cae8ba002",
   "metadata": {},
   "outputs": [],
   "source": [
    "# help(pd.DataFrame.describe)"
   ]
  },
  {
   "cell_type": "markdown",
   "id": "af960779-d7e8-472f-98cc-b76f40a43e96",
   "metadata": {},
   "source": [
    "### Product_id"
   ]
  },
  {
   "cell_type": "code",
   "execution_count": 149,
   "id": "03eb185e-296e-402a-8bbe-a155cd7e56c9",
   "metadata": {},
   "outputs": [
    {
     "data": {
      "text/plain": [
       "0"
      ]
     },
     "execution_count": 149,
     "metadata": {},
     "output_type": "execute_result"
    }
   ],
   "source": [
    "pets[\"product_id\"].isnull().sum()"
   ]
  },
  {
   "cell_type": "code",
   "execution_count": 150,
   "id": "60c585bb-762e-4d30-b807-3370f11eccff",
   "metadata": {},
   "outputs": [
    {
     "data": {
      "text/html": [
       "<div>\n",
       "<style scoped>\n",
       "    .dataframe tbody tr th:only-of-type {\n",
       "        vertical-align: middle;\n",
       "    }\n",
       "\n",
       "    .dataframe tbody tr th {\n",
       "        vertical-align: top;\n",
       "    }\n",
       "\n",
       "    .dataframe thead th {\n",
       "        text-align: right;\n",
       "    }\n",
       "</style>\n",
       "<table border=\"1\" class=\"dataframe\">\n",
       "  <thead>\n",
       "    <tr style=\"text-align: right;\">\n",
       "      <th></th>\n",
       "      <th>category</th>\n",
       "      <th>animal</th>\n",
       "      <th>size</th>\n",
       "      <th>price</th>\n",
       "    </tr>\n",
       "  </thead>\n",
       "  <tbody>\n",
       "    <tr>\n",
       "      <th>count</th>\n",
       "      <td>1500</td>\n",
       "      <td>1500</td>\n",
       "      <td>1500</td>\n",
       "      <td>1500</td>\n",
       "    </tr>\n",
       "    <tr>\n",
       "      <th>unique</th>\n",
       "      <td>7</td>\n",
       "      <td>4</td>\n",
       "      <td>9</td>\n",
       "      <td>707</td>\n",
       "    </tr>\n",
       "    <tr>\n",
       "      <th>top</th>\n",
       "      <td>Equipment</td>\n",
       "      <td>Cat</td>\n",
       "      <td>small</td>\n",
       "      <td>unlisted</td>\n",
       "    </tr>\n",
       "    <tr>\n",
       "      <th>freq</th>\n",
       "      <td>370</td>\n",
       "      <td>567</td>\n",
       "      <td>372</td>\n",
       "      <td>150</td>\n",
       "    </tr>\n",
       "  </tbody>\n",
       "</table>\n",
       "</div>"
      ],
      "text/plain": [
       "         category animal   size     price\n",
       "count        1500   1500   1500      1500\n",
       "unique          7      4      9       707\n",
       "top     Equipment    Cat  small  unlisted\n",
       "freq          370    567    372       150"
      ]
     },
     "execution_count": 150,
     "metadata": {},
     "output_type": "execute_result"
    }
   ],
   "source": [
    "pets.describe(include=[object])"
   ]
  },
  {
   "cell_type": "code",
   "execution_count": 151,
   "id": "7bb43ab8-986f-404f-9bed-85b3fc2f4135",
   "metadata": {},
   "outputs": [
    {
     "data": {
      "text/plain": [
       "7"
      ]
     },
     "execution_count": 151,
     "metadata": {},
     "output_type": "execute_result"
    }
   ],
   "source": [
    "pets['category'].nunique()"
   ]
  },
  {
   "cell_type": "code",
   "execution_count": 152,
   "id": "7ab7d45c-a8ee-4b2e-aa3f-7b1445a0fcad",
   "metadata": {},
   "outputs": [
    {
     "data": {
      "text/plain": [
       "category\n",
       "Equipment    370\n",
       "Food         260\n",
       "Toys         255\n",
       "Medicine     237\n",
       "Housing      227\n",
       "Accessory    126\n",
       "-             25\n",
       "Name: count, dtype: int64"
      ]
     },
     "execution_count": 152,
     "metadata": {},
     "output_type": "execute_result"
    }
   ],
   "source": [
    "pets['category'].value_counts(dropna=False)"
   ]
  },
  {
   "cell_type": "code",
   "execution_count": 153,
   "id": "5dab2f0b-d9fd-4c3a-be84-f0044d79e3d3",
   "metadata": {},
   "outputs": [
    {
     "name": "stderr",
     "output_type": "stream",
     "text": [
      "C:\\Users\\HP\\AppData\\Local\\Temp\\ipykernel_15620\\1297208153.py:1: FutureWarning: A value is trying to be set on a copy of a DataFrame or Series through chained assignment using an inplace method.\n",
      "The behavior will change in pandas 3.0. This inplace method will never work because the intermediate object on which we are setting values always behaves as a copy.\n",
      "\n",
      "For example, when doing 'df[col].method(value, inplace=True)', try using 'df.method({col: value}, inplace=True)' or df[col] = df[col].method(value) instead, to perform the operation inplace on the original object.\n",
      "\n",
      "\n",
      "  pets['category'].replace({'-': 'Unknown'}, inplace=True)\n"
     ]
    }
   ],
   "source": [
    "pets['category'].replace({'-': 'Unknown'}, inplace=True)"
   ]
  },
  {
   "cell_type": "code",
   "execution_count": 154,
   "id": "c4baeea6-1ef6-425e-94af-5f43d516b736",
   "metadata": {},
   "outputs": [
    {
     "data": {
      "text/plain": [
       "category\n",
       "Equipment    24.67\n",
       "Food         17.33\n",
       "Toys         17.00\n",
       "Medicine     15.80\n",
       "Housing      15.13\n",
       "Accessory     8.40\n",
       "Unknown       1.67\n",
       "Name: proportion, dtype: float64"
      ]
     },
     "execution_count": 154,
     "metadata": {},
     "output_type": "execute_result"
    }
   ],
   "source": [
    "round(pets['category'].value_counts(normalize=True, dropna=False)*100,2)"
   ]
  },
  {
   "cell_type": "markdown",
   "id": "54c9b8c8-2fd9-43f1-8c0e-96491ab8539b",
   "metadata": {},
   "source": [
    "From the above value_count, we can see that Equipment has the highest value of 24.67%, followed by Food at 17.33% with a close range with Toys at 17% as well as others."
   ]
  },
  {
   "cell_type": "code",
   "execution_count": 155,
   "id": "c64c11c3-7cc6-4c00-9bc8-75e0e03fe5cd",
   "metadata": {},
   "outputs": [
    {
     "data": {
      "text/html": [
       "<div>\n",
       "<style scoped>\n",
       "    .dataframe tbody tr th:only-of-type {\n",
       "        vertical-align: middle;\n",
       "    }\n",
       "\n",
       "    .dataframe tbody tr th {\n",
       "        vertical-align: top;\n",
       "    }\n",
       "\n",
       "    .dataframe thead th {\n",
       "        text-align: right;\n",
       "    }\n",
       "</style>\n",
       "<table border=\"1\" class=\"dataframe\">\n",
       "  <thead>\n",
       "    <tr style=\"text-align: right;\">\n",
       "      <th></th>\n",
       "      <th>product_id</th>\n",
       "      <th>category</th>\n",
       "      <th>animal</th>\n",
       "      <th>size</th>\n",
       "      <th>price</th>\n",
       "      <th>sales</th>\n",
       "      <th>rating</th>\n",
       "      <th>repeat_purchase</th>\n",
       "    </tr>\n",
       "  </thead>\n",
       "  <tbody>\n",
       "    <tr>\n",
       "      <th>count</th>\n",
       "      <td>1500.000000</td>\n",
       "      <td>1500</td>\n",
       "      <td>1500</td>\n",
       "      <td>1500</td>\n",
       "      <td>1500</td>\n",
       "      <td>1500.000000</td>\n",
       "      <td>1350.000000</td>\n",
       "      <td>1500.000000</td>\n",
       "    </tr>\n",
       "    <tr>\n",
       "      <th>unique</th>\n",
       "      <td>NaN</td>\n",
       "      <td>7</td>\n",
       "      <td>4</td>\n",
       "      <td>9</td>\n",
       "      <td>707</td>\n",
       "      <td>NaN</td>\n",
       "      <td>NaN</td>\n",
       "      <td>NaN</td>\n",
       "    </tr>\n",
       "    <tr>\n",
       "      <th>top</th>\n",
       "      <td>NaN</td>\n",
       "      <td>Equipment</td>\n",
       "      <td>Cat</td>\n",
       "      <td>small</td>\n",
       "      <td>unlisted</td>\n",
       "      <td>NaN</td>\n",
       "      <td>NaN</td>\n",
       "      <td>NaN</td>\n",
       "    </tr>\n",
       "    <tr>\n",
       "      <th>freq</th>\n",
       "      <td>NaN</td>\n",
       "      <td>370</td>\n",
       "      <td>567</td>\n",
       "      <td>372</td>\n",
       "      <td>150</td>\n",
       "      <td>NaN</td>\n",
       "      <td>NaN</td>\n",
       "      <td>NaN</td>\n",
       "    </tr>\n",
       "    <tr>\n",
       "      <th>mean</th>\n",
       "      <td>750.500000</td>\n",
       "      <td>NaN</td>\n",
       "      <td>NaN</td>\n",
       "      <td>NaN</td>\n",
       "      <td>NaN</td>\n",
       "      <td>996.597847</td>\n",
       "      <td>4.991111</td>\n",
       "      <td>0.604000</td>\n",
       "    </tr>\n",
       "    <tr>\n",
       "      <th>std</th>\n",
       "      <td>433.157015</td>\n",
       "      <td>NaN</td>\n",
       "      <td>NaN</td>\n",
       "      <td>NaN</td>\n",
       "      <td>NaN</td>\n",
       "      <td>323.952676</td>\n",
       "      <td>1.559755</td>\n",
       "      <td>0.489228</td>\n",
       "    </tr>\n",
       "    <tr>\n",
       "      <th>min</th>\n",
       "      <td>1.000000</td>\n",
       "      <td>NaN</td>\n",
       "      <td>NaN</td>\n",
       "      <td>NaN</td>\n",
       "      <td>NaN</td>\n",
       "      <td>286.940000</td>\n",
       "      <td>1.000000</td>\n",
       "      <td>0.000000</td>\n",
       "    </tr>\n",
       "    <tr>\n",
       "      <th>25%</th>\n",
       "      <td>375.750000</td>\n",
       "      <td>NaN</td>\n",
       "      <td>NaN</td>\n",
       "      <td>NaN</td>\n",
       "      <td>NaN</td>\n",
       "      <td>747.420000</td>\n",
       "      <td>4.000000</td>\n",
       "      <td>0.000000</td>\n",
       "    </tr>\n",
       "    <tr>\n",
       "      <th>50%</th>\n",
       "      <td>750.500000</td>\n",
       "      <td>NaN</td>\n",
       "      <td>NaN</td>\n",
       "      <td>NaN</td>\n",
       "      <td>NaN</td>\n",
       "      <td>1000.830000</td>\n",
       "      <td>5.000000</td>\n",
       "      <td>1.000000</td>\n",
       "    </tr>\n",
       "    <tr>\n",
       "      <th>75%</th>\n",
       "      <td>1125.250000</td>\n",
       "      <td>NaN</td>\n",
       "      <td>NaN</td>\n",
       "      <td>NaN</td>\n",
       "      <td>NaN</td>\n",
       "      <td>1158.157500</td>\n",
       "      <td>6.000000</td>\n",
       "      <td>1.000000</td>\n",
       "    </tr>\n",
       "    <tr>\n",
       "      <th>max</th>\n",
       "      <td>1500.000000</td>\n",
       "      <td>NaN</td>\n",
       "      <td>NaN</td>\n",
       "      <td>NaN</td>\n",
       "      <td>NaN</td>\n",
       "      <td>2255.960000</td>\n",
       "      <td>9.000000</td>\n",
       "      <td>1.000000</td>\n",
       "    </tr>\n",
       "  </tbody>\n",
       "</table>\n",
       "</div>"
      ],
      "text/plain": [
       "         product_id   category animal   size     price        sales  \\\n",
       "count   1500.000000       1500   1500   1500      1500  1500.000000   \n",
       "unique          NaN          7      4      9       707          NaN   \n",
       "top             NaN  Equipment    Cat  small  unlisted          NaN   \n",
       "freq            NaN        370    567    372       150          NaN   \n",
       "mean     750.500000        NaN    NaN    NaN       NaN   996.597847   \n",
       "std      433.157015        NaN    NaN    NaN       NaN   323.952676   \n",
       "min        1.000000        NaN    NaN    NaN       NaN   286.940000   \n",
       "25%      375.750000        NaN    NaN    NaN       NaN   747.420000   \n",
       "50%      750.500000        NaN    NaN    NaN       NaN  1000.830000   \n",
       "75%     1125.250000        NaN    NaN    NaN       NaN  1158.157500   \n",
       "max     1500.000000        NaN    NaN    NaN       NaN  2255.960000   \n",
       "\n",
       "             rating  repeat_purchase  \n",
       "count   1350.000000      1500.000000  \n",
       "unique          NaN              NaN  \n",
       "top             NaN              NaN  \n",
       "freq            NaN              NaN  \n",
       "mean       4.991111         0.604000  \n",
       "std        1.559755         0.489228  \n",
       "min        1.000000         0.000000  \n",
       "25%        4.000000         0.000000  \n",
       "50%        5.000000         1.000000  \n",
       "75%        6.000000         1.000000  \n",
       "max        9.000000         1.000000  "
      ]
     },
     "execution_count": 155,
     "metadata": {},
     "output_type": "execute_result"
    }
   ],
   "source": [
    "pets.describe(include=\"all\")"
   ]
  },
  {
   "cell_type": "code",
   "execution_count": 156,
   "id": "2e003d05-13c2-4678-95b0-ea342b33908c",
   "metadata": {},
   "outputs": [
    {
     "data": {
      "text/plain": [
       "animal\n",
       "Cat     37.80\n",
       "Fish    24.60\n",
       "Dog     24.47\n",
       "Bird    13.13\n",
       "Name: proportion, dtype: float64"
      ]
     },
     "execution_count": 156,
     "metadata": {},
     "output_type": "execute_result"
    }
   ],
   "source": [
    "round(pets['animal'].value_counts(normalize=True)*100,2)"
   ]
  },
  {
   "cell_type": "markdown",
   "id": "f543aa75-61de-4d45-8ea1-5ff92bc56332",
   "metadata": {},
   "source": [
    "Cats are more in demand at 37.80% which is the highest, followed by Fish and Dog; with both almost at the same level of demand."
   ]
  },
  {
   "cell_type": "code",
   "execution_count": 157,
   "id": "fa41ece6-04df-4d0f-ba32-66f4a36bc12b",
   "metadata": {},
   "outputs": [
    {
     "data": {
      "text/plain": [
       "size\n",
       "small     372\n",
       "medium    233\n",
       "Small     225\n",
       "SMALL     157\n",
       "Medium    150\n",
       "large     122\n",
       "MEDIUM    109\n",
       "Large      75\n",
       "LARGE      57\n",
       "Name: count, dtype: int64"
      ]
     },
     "execution_count": 157,
     "metadata": {},
     "output_type": "execute_result"
    }
   ],
   "source": [
    "pets['size'].value_counts(dropna=False)"
   ]
  },
  {
   "cell_type": "markdown",
   "id": "263c7811-34d4-40a7-867d-3c429de90805",
   "metadata": {},
   "source": [
    "We have several inconsistencies in the names of the different sizes, such as SMALL, large, LARGE, medium, small, and MEDIUM. We need to correct it. Let's do the correction here:"
   ]
  },
  {
   "cell_type": "code",
   "execution_count": 158,
   "id": "df7ee7d9-b2ed-477f-b9da-bfaeb2db4cab",
   "metadata": {},
   "outputs": [
    {
     "name": "stderr",
     "output_type": "stream",
     "text": [
      "C:\\Users\\HP\\AppData\\Local\\Temp\\ipykernel_15620\\2593974041.py:1: FutureWarning: A value is trying to be set on a copy of a DataFrame or Series through chained assignment using an inplace method.\n",
      "The behavior will change in pandas 3.0. This inplace method will never work because the intermediate object on which we are setting values always behaves as a copy.\n",
      "\n",
      "For example, when doing 'df[col].method(value, inplace=True)', try using 'df.method({col: value}, inplace=True)' or df[col] = df[col].method(value) instead, to perform the operation inplace on the original object.\n",
      "\n",
      "\n",
      "  pets['size'].replace({'LARGE':'Large', 'large':'Large','MEDIUM':'Medium','medium':'Medium','SMALL':'Small','small':'Small'}, inplace=True)\n"
     ]
    }
   ],
   "source": [
    "pets['size'].replace({'LARGE':'Large', 'large':'Large','MEDIUM':'Medium','medium':'Medium','SMALL':'Small','small':'Small'}, inplace=True)"
   ]
  },
  {
   "cell_type": "code",
   "execution_count": 159,
   "id": "53ad0ee7-d583-423e-93ac-00d00494c2bc",
   "metadata": {},
   "outputs": [
    {
     "data": {
      "text/plain": [
       "size\n",
       "Small     50.27\n",
       "Medium    32.80\n",
       "Large     16.93\n",
       "Name: proportion, dtype: float64"
      ]
     },
     "execution_count": 159,
     "metadata": {},
     "output_type": "execute_result"
    }
   ],
   "source": [
    "round(pets['size'].value_counts(normalize=True, dropna=False)*100,2)"
   ]
  },
  {
   "cell_type": "markdown",
   "id": "de3a21bf-d2b9-43a8-8145-c9e68175cba0",
   "metadata": {},
   "source": [
    "From the result above, we can deduce that Small size pets are the most ordered sets of pets taking over 50% of all orders, followed by Medium sized pets at 32.8%, and Large at 16.93%"
   ]
  },
  {
   "cell_type": "code",
   "execution_count": 160,
   "id": "2b8bd3ce-3a39-40e6-ac33-3a79f292a397",
   "metadata": {},
   "outputs": [
    {
     "data": {
      "text/plain": [
       "0        51.1\n",
       "1       35.98\n",
       "2       31.23\n",
       "3       24.95\n",
       "4       26.18\n",
       "        ...  \n",
       "1495    40.91\n",
       "1496    32.89\n",
       "1497    25.79\n",
       "1498    19.94\n",
       "1499    25.95\n",
       "Name: price, Length: 1500, dtype: object"
      ]
     },
     "execution_count": 160,
     "metadata": {},
     "output_type": "execute_result"
    }
   ],
   "source": [
    "pets['price']"
   ]
  },
  {
   "cell_type": "code",
   "execution_count": 161,
   "id": "b7be1ab2-09c3-4d9a-bf53-a7f796a130ae",
   "metadata": {},
   "outputs": [],
   "source": [
    "pets.to_csv(\"pets_updated2.csv\")"
   ]
  },
  {
   "cell_type": "code",
   "execution_count": 162,
   "id": "db7cb460-376b-4a95-b750-afda8168c7df",
   "metadata": {},
   "outputs": [],
   "source": [
    "pets_cont3 = pd.read_csv(\"pets_updated2.csv\")"
   ]
  },
  {
   "cell_type": "code",
   "execution_count": 163,
   "id": "293c2b5a-1e2c-4695-bc58-32432e73088c",
   "metadata": {},
   "outputs": [
    {
     "data": {
      "text/html": [
       "<div>\n",
       "<style scoped>\n",
       "    .dataframe tbody tr th:only-of-type {\n",
       "        vertical-align: middle;\n",
       "    }\n",
       "\n",
       "    .dataframe tbody tr th {\n",
       "        vertical-align: top;\n",
       "    }\n",
       "\n",
       "    .dataframe thead th {\n",
       "        text-align: right;\n",
       "    }\n",
       "</style>\n",
       "<table border=\"1\" class=\"dataframe\">\n",
       "  <thead>\n",
       "    <tr style=\"text-align: right;\">\n",
       "      <th></th>\n",
       "      <th>Unnamed: 0</th>\n",
       "      <th>product_id</th>\n",
       "      <th>category</th>\n",
       "      <th>animal</th>\n",
       "      <th>size</th>\n",
       "      <th>price</th>\n",
       "      <th>sales</th>\n",
       "      <th>rating</th>\n",
       "      <th>repeat_purchase</th>\n",
       "    </tr>\n",
       "  </thead>\n",
       "  <tbody>\n",
       "    <tr>\n",
       "      <th>0</th>\n",
       "      <td>0</td>\n",
       "      <td>1</td>\n",
       "      <td>Food</td>\n",
       "      <td>Bird</td>\n",
       "      <td>Large</td>\n",
       "      <td>51.1</td>\n",
       "      <td>1860.62</td>\n",
       "      <td>7.0</td>\n",
       "      <td>1</td>\n",
       "    </tr>\n",
       "    <tr>\n",
       "      <th>1</th>\n",
       "      <td>1</td>\n",
       "      <td>2</td>\n",
       "      <td>Housing</td>\n",
       "      <td>Bird</td>\n",
       "      <td>Medium</td>\n",
       "      <td>35.98</td>\n",
       "      <td>963.60</td>\n",
       "      <td>6.0</td>\n",
       "      <td>0</td>\n",
       "    </tr>\n",
       "    <tr>\n",
       "      <th>2</th>\n",
       "      <td>2</td>\n",
       "      <td>3</td>\n",
       "      <td>Food</td>\n",
       "      <td>Dog</td>\n",
       "      <td>Medium</td>\n",
       "      <td>31.23</td>\n",
       "      <td>898.30</td>\n",
       "      <td>5.0</td>\n",
       "      <td>1</td>\n",
       "    </tr>\n",
       "    <tr>\n",
       "      <th>3</th>\n",
       "      <td>3</td>\n",
       "      <td>4</td>\n",
       "      <td>Medicine</td>\n",
       "      <td>Cat</td>\n",
       "      <td>Small</td>\n",
       "      <td>24.95</td>\n",
       "      <td>982.15</td>\n",
       "      <td>6.0</td>\n",
       "      <td>1</td>\n",
       "    </tr>\n",
       "    <tr>\n",
       "      <th>4</th>\n",
       "      <td>4</td>\n",
       "      <td>5</td>\n",
       "      <td>Housing</td>\n",
       "      <td>Cat</td>\n",
       "      <td>Small</td>\n",
       "      <td>26.18</td>\n",
       "      <td>832.63</td>\n",
       "      <td>7.0</td>\n",
       "      <td>1</td>\n",
       "    </tr>\n",
       "    <tr>\n",
       "      <th>5</th>\n",
       "      <td>5</td>\n",
       "      <td>6</td>\n",
       "      <td>Housing</td>\n",
       "      <td>Dog</td>\n",
       "      <td>Small</td>\n",
       "      <td>30.77</td>\n",
       "      <td>874.58</td>\n",
       "      <td>7.0</td>\n",
       "      <td>0</td>\n",
       "    </tr>\n",
       "    <tr>\n",
       "      <th>6</th>\n",
       "      <td>6</td>\n",
       "      <td>7</td>\n",
       "      <td>Housing</td>\n",
       "      <td>Dog</td>\n",
       "      <td>Small</td>\n",
       "      <td>31.04</td>\n",
       "      <td>875.07</td>\n",
       "      <td>5.0</td>\n",
       "      <td>0</td>\n",
       "    </tr>\n",
       "    <tr>\n",
       "      <th>7</th>\n",
       "      <td>7</td>\n",
       "      <td>8</td>\n",
       "      <td>Toys</td>\n",
       "      <td>Cat</td>\n",
       "      <td>Medium</td>\n",
       "      <td>28.9</td>\n",
       "      <td>1074.31</td>\n",
       "      <td>4.0</td>\n",
       "      <td>0</td>\n",
       "    </tr>\n",
       "    <tr>\n",
       "      <th>8</th>\n",
       "      <td>8</td>\n",
       "      <td>9</td>\n",
       "      <td>Equipment</td>\n",
       "      <td>Fish</td>\n",
       "      <td>Medium</td>\n",
       "      <td>17.82</td>\n",
       "      <td>503.67</td>\n",
       "      <td>5.0</td>\n",
       "      <td>0</td>\n",
       "    </tr>\n",
       "  </tbody>\n",
       "</table>\n",
       "</div>"
      ],
      "text/plain": [
       "   Unnamed: 0  product_id   category animal    size  price    sales  rating  \\\n",
       "0           0           1       Food   Bird   Large   51.1  1860.62     7.0   \n",
       "1           1           2    Housing   Bird  Medium  35.98   963.60     6.0   \n",
       "2           2           3       Food    Dog  Medium  31.23   898.30     5.0   \n",
       "3           3           4   Medicine    Cat   Small  24.95   982.15     6.0   \n",
       "4           4           5    Housing    Cat   Small  26.18   832.63     7.0   \n",
       "5           5           6    Housing    Dog   Small  30.77   874.58     7.0   \n",
       "6           6           7    Housing    Dog   Small  31.04   875.07     5.0   \n",
       "7           7           8       Toys    Cat  Medium   28.9  1074.31     4.0   \n",
       "8           8           9  Equipment   Fish  Medium  17.82   503.67     5.0   \n",
       "\n",
       "   repeat_purchase  \n",
       "0                1  \n",
       "1                0  \n",
       "2                1  \n",
       "3                1  \n",
       "4                1  \n",
       "5                0  \n",
       "6                0  \n",
       "7                0  \n",
       "8                0  "
      ]
     },
     "execution_count": 163,
     "metadata": {},
     "output_type": "execute_result"
    }
   ],
   "source": [
    "pets_cont3.head(9)"
   ]
  },
  {
   "cell_type": "code",
   "execution_count": 164,
   "id": "af1e28d2-79d0-4c89-85be-a33dfd7e91b3",
   "metadata": {},
   "outputs": [],
   "source": [
    "pets_cont3.drop(columns=[\"Unnamed: 0\"], inplace = True)"
   ]
  },
  {
   "cell_type": "code",
   "execution_count": 165,
   "id": "b38b3cc3-ef9c-4cd1-a951-cf418f204240",
   "metadata": {},
   "outputs": [
    {
     "data": {
      "text/plain": [
       "0        51.1\n",
       "1       35.98\n",
       "2       31.23\n",
       "3       24.95\n",
       "4       26.18\n",
       "        ...  \n",
       "1495    40.91\n",
       "1496    32.89\n",
       "1497    25.79\n",
       "1498    19.94\n",
       "1499    25.95\n",
       "Name: price, Length: 1500, dtype: object"
      ]
     },
     "execution_count": 165,
     "metadata": {},
     "output_type": "execute_result"
    }
   ],
   "source": [
    "pets_cont3['price']"
   ]
  },
  {
   "cell_type": "code",
   "execution_count": 166,
   "id": "742d56d3-28cb-48da-a6b2-fbce21aadb4f",
   "metadata": {},
   "outputs": [
    {
     "data": {
      "text/plain": [
       "dtype('O')"
      ]
     },
     "execution_count": 166,
     "metadata": {},
     "output_type": "execute_result"
    }
   ],
   "source": [
    "pets_cont3['price'].dtype"
   ]
  },
  {
   "cell_type": "code",
   "execution_count": 167,
   "id": "46e90454-2c84-4169-a8f5-02c03f1ca45c",
   "metadata": {},
   "outputs": [
    {
     "ename": "ValueError",
     "evalue": "could not convert string to float: 'unlisted'",
     "output_type": "error",
     "traceback": [
      "\u001b[1;31m---------------------------------------------------------------------------\u001b[0m",
      "\u001b[1;31mValueError\u001b[0m                                Traceback (most recent call last)",
      "Cell \u001b[1;32mIn[167], line 1\u001b[0m\n\u001b[1;32m----> 1\u001b[0m pets_cont3[\u001b[38;5;124m'\u001b[39m\u001b[38;5;124mprice\u001b[39m\u001b[38;5;124m'\u001b[39m]\u001b[38;5;241m.\u001b[39mastype(\u001b[38;5;28mfloat\u001b[39m)\n",
      "File \u001b[1;32m~\\.anaconda\\Anaconda\\Lib\\site-packages\\pandas\\core\\generic.py:6643\u001b[0m, in \u001b[0;36mNDFrame.astype\u001b[1;34m(self, dtype, copy, errors)\u001b[0m\n\u001b[0;32m   6637\u001b[0m     results \u001b[38;5;241m=\u001b[39m [\n\u001b[0;32m   6638\u001b[0m         ser\u001b[38;5;241m.\u001b[39mastype(dtype, copy\u001b[38;5;241m=\u001b[39mcopy, errors\u001b[38;5;241m=\u001b[39merrors) \u001b[38;5;28;01mfor\u001b[39;00m _, ser \u001b[38;5;129;01min\u001b[39;00m \u001b[38;5;28mself\u001b[39m\u001b[38;5;241m.\u001b[39mitems()\n\u001b[0;32m   6639\u001b[0m     ]\n\u001b[0;32m   6641\u001b[0m \u001b[38;5;28;01melse\u001b[39;00m:\n\u001b[0;32m   6642\u001b[0m     \u001b[38;5;66;03m# else, only a single dtype is given\u001b[39;00m\n\u001b[1;32m-> 6643\u001b[0m     new_data \u001b[38;5;241m=\u001b[39m \u001b[38;5;28mself\u001b[39m\u001b[38;5;241m.\u001b[39m_mgr\u001b[38;5;241m.\u001b[39mastype(dtype\u001b[38;5;241m=\u001b[39mdtype, copy\u001b[38;5;241m=\u001b[39mcopy, errors\u001b[38;5;241m=\u001b[39merrors)\n\u001b[0;32m   6644\u001b[0m     res \u001b[38;5;241m=\u001b[39m \u001b[38;5;28mself\u001b[39m\u001b[38;5;241m.\u001b[39m_constructor_from_mgr(new_data, axes\u001b[38;5;241m=\u001b[39mnew_data\u001b[38;5;241m.\u001b[39maxes)\n\u001b[0;32m   6645\u001b[0m     \u001b[38;5;28;01mreturn\u001b[39;00m res\u001b[38;5;241m.\u001b[39m__finalize__(\u001b[38;5;28mself\u001b[39m, method\u001b[38;5;241m=\u001b[39m\u001b[38;5;124m\"\u001b[39m\u001b[38;5;124mastype\u001b[39m\u001b[38;5;124m\"\u001b[39m)\n",
      "File \u001b[1;32m~\\.anaconda\\Anaconda\\Lib\\site-packages\\pandas\\core\\internals\\managers.py:430\u001b[0m, in \u001b[0;36mBaseBlockManager.astype\u001b[1;34m(self, dtype, copy, errors)\u001b[0m\n\u001b[0;32m    427\u001b[0m \u001b[38;5;28;01melif\u001b[39;00m using_copy_on_write():\n\u001b[0;32m    428\u001b[0m     copy \u001b[38;5;241m=\u001b[39m \u001b[38;5;28;01mFalse\u001b[39;00m\n\u001b[1;32m--> 430\u001b[0m \u001b[38;5;28;01mreturn\u001b[39;00m \u001b[38;5;28mself\u001b[39m\u001b[38;5;241m.\u001b[39mapply(\n\u001b[0;32m    431\u001b[0m     \u001b[38;5;124m\"\u001b[39m\u001b[38;5;124mastype\u001b[39m\u001b[38;5;124m\"\u001b[39m,\n\u001b[0;32m    432\u001b[0m     dtype\u001b[38;5;241m=\u001b[39mdtype,\n\u001b[0;32m    433\u001b[0m     copy\u001b[38;5;241m=\u001b[39mcopy,\n\u001b[0;32m    434\u001b[0m     errors\u001b[38;5;241m=\u001b[39merrors,\n\u001b[0;32m    435\u001b[0m     using_cow\u001b[38;5;241m=\u001b[39musing_copy_on_write(),\n\u001b[0;32m    436\u001b[0m )\n",
      "File \u001b[1;32m~\\.anaconda\\Anaconda\\Lib\\site-packages\\pandas\\core\\internals\\managers.py:363\u001b[0m, in \u001b[0;36mBaseBlockManager.apply\u001b[1;34m(self, f, align_keys, **kwargs)\u001b[0m\n\u001b[0;32m    361\u001b[0m         applied \u001b[38;5;241m=\u001b[39m b\u001b[38;5;241m.\u001b[39mapply(f, \u001b[38;5;241m*\u001b[39m\u001b[38;5;241m*\u001b[39mkwargs)\n\u001b[0;32m    362\u001b[0m     \u001b[38;5;28;01melse\u001b[39;00m:\n\u001b[1;32m--> 363\u001b[0m         applied \u001b[38;5;241m=\u001b[39m \u001b[38;5;28mgetattr\u001b[39m(b, f)(\u001b[38;5;241m*\u001b[39m\u001b[38;5;241m*\u001b[39mkwargs)\n\u001b[0;32m    364\u001b[0m     result_blocks \u001b[38;5;241m=\u001b[39m extend_blocks(applied, result_blocks)\n\u001b[0;32m    366\u001b[0m out \u001b[38;5;241m=\u001b[39m \u001b[38;5;28mtype\u001b[39m(\u001b[38;5;28mself\u001b[39m)\u001b[38;5;241m.\u001b[39mfrom_blocks(result_blocks, \u001b[38;5;28mself\u001b[39m\u001b[38;5;241m.\u001b[39maxes)\n",
      "File \u001b[1;32m~\\.anaconda\\Anaconda\\Lib\\site-packages\\pandas\\core\\internals\\blocks.py:758\u001b[0m, in \u001b[0;36mBlock.astype\u001b[1;34m(self, dtype, copy, errors, using_cow, squeeze)\u001b[0m\n\u001b[0;32m    755\u001b[0m         \u001b[38;5;28;01mraise\u001b[39;00m \u001b[38;5;167;01mValueError\u001b[39;00m(\u001b[38;5;124m\"\u001b[39m\u001b[38;5;124mCan not squeeze with more than one column.\u001b[39m\u001b[38;5;124m\"\u001b[39m)\n\u001b[0;32m    756\u001b[0m     values \u001b[38;5;241m=\u001b[39m values[\u001b[38;5;241m0\u001b[39m, :]  \u001b[38;5;66;03m# type: ignore[call-overload]\u001b[39;00m\n\u001b[1;32m--> 758\u001b[0m new_values \u001b[38;5;241m=\u001b[39m astype_array_safe(values, dtype, copy\u001b[38;5;241m=\u001b[39mcopy, errors\u001b[38;5;241m=\u001b[39merrors)\n\u001b[0;32m    760\u001b[0m new_values \u001b[38;5;241m=\u001b[39m maybe_coerce_values(new_values)\n\u001b[0;32m    762\u001b[0m refs \u001b[38;5;241m=\u001b[39m \u001b[38;5;28;01mNone\u001b[39;00m\n",
      "File \u001b[1;32m~\\.anaconda\\Anaconda\\Lib\\site-packages\\pandas\\core\\dtypes\\astype.py:237\u001b[0m, in \u001b[0;36mastype_array_safe\u001b[1;34m(values, dtype, copy, errors)\u001b[0m\n\u001b[0;32m    234\u001b[0m     dtype \u001b[38;5;241m=\u001b[39m dtype\u001b[38;5;241m.\u001b[39mnumpy_dtype\n\u001b[0;32m    236\u001b[0m \u001b[38;5;28;01mtry\u001b[39;00m:\n\u001b[1;32m--> 237\u001b[0m     new_values \u001b[38;5;241m=\u001b[39m astype_array(values, dtype, copy\u001b[38;5;241m=\u001b[39mcopy)\n\u001b[0;32m    238\u001b[0m \u001b[38;5;28;01mexcept\u001b[39;00m (\u001b[38;5;167;01mValueError\u001b[39;00m, \u001b[38;5;167;01mTypeError\u001b[39;00m):\n\u001b[0;32m    239\u001b[0m     \u001b[38;5;66;03m# e.g. _astype_nansafe can fail on object-dtype of strings\u001b[39;00m\n\u001b[0;32m    240\u001b[0m     \u001b[38;5;66;03m#  trying to convert to float\u001b[39;00m\n\u001b[0;32m    241\u001b[0m     \u001b[38;5;28;01mif\u001b[39;00m errors \u001b[38;5;241m==\u001b[39m \u001b[38;5;124m\"\u001b[39m\u001b[38;5;124mignore\u001b[39m\u001b[38;5;124m\"\u001b[39m:\n",
      "File \u001b[1;32m~\\.anaconda\\Anaconda\\Lib\\site-packages\\pandas\\core\\dtypes\\astype.py:182\u001b[0m, in \u001b[0;36mastype_array\u001b[1;34m(values, dtype, copy)\u001b[0m\n\u001b[0;32m    179\u001b[0m     values \u001b[38;5;241m=\u001b[39m values\u001b[38;5;241m.\u001b[39mastype(dtype, copy\u001b[38;5;241m=\u001b[39mcopy)\n\u001b[0;32m    181\u001b[0m \u001b[38;5;28;01melse\u001b[39;00m:\n\u001b[1;32m--> 182\u001b[0m     values \u001b[38;5;241m=\u001b[39m _astype_nansafe(values, dtype, copy\u001b[38;5;241m=\u001b[39mcopy)\n\u001b[0;32m    184\u001b[0m \u001b[38;5;66;03m# in pandas we don't store numpy str dtypes, so convert to object\u001b[39;00m\n\u001b[0;32m    185\u001b[0m \u001b[38;5;28;01mif\u001b[39;00m \u001b[38;5;28misinstance\u001b[39m(dtype, np\u001b[38;5;241m.\u001b[39mdtype) \u001b[38;5;129;01mand\u001b[39;00m \u001b[38;5;28missubclass\u001b[39m(values\u001b[38;5;241m.\u001b[39mdtype\u001b[38;5;241m.\u001b[39mtype, \u001b[38;5;28mstr\u001b[39m):\n",
      "File \u001b[1;32m~\\.anaconda\\Anaconda\\Lib\\site-packages\\pandas\\core\\dtypes\\astype.py:133\u001b[0m, in \u001b[0;36m_astype_nansafe\u001b[1;34m(arr, dtype, copy, skipna)\u001b[0m\n\u001b[0;32m    129\u001b[0m     \u001b[38;5;28;01mraise\u001b[39;00m \u001b[38;5;167;01mValueError\u001b[39;00m(msg)\n\u001b[0;32m    131\u001b[0m \u001b[38;5;28;01mif\u001b[39;00m copy \u001b[38;5;129;01mor\u001b[39;00m arr\u001b[38;5;241m.\u001b[39mdtype \u001b[38;5;241m==\u001b[39m \u001b[38;5;28mobject\u001b[39m \u001b[38;5;129;01mor\u001b[39;00m dtype \u001b[38;5;241m==\u001b[39m \u001b[38;5;28mobject\u001b[39m:\n\u001b[0;32m    132\u001b[0m     \u001b[38;5;66;03m# Explicit copy, or required since NumPy can't view from / to object.\u001b[39;00m\n\u001b[1;32m--> 133\u001b[0m     \u001b[38;5;28;01mreturn\u001b[39;00m arr\u001b[38;5;241m.\u001b[39mastype(dtype, copy\u001b[38;5;241m=\u001b[39m\u001b[38;5;28;01mTrue\u001b[39;00m)\n\u001b[0;32m    135\u001b[0m \u001b[38;5;28;01mreturn\u001b[39;00m arr\u001b[38;5;241m.\u001b[39mastype(dtype, copy\u001b[38;5;241m=\u001b[39mcopy)\n",
      "\u001b[1;31mValueError\u001b[0m: could not convert string to float: 'unlisted'"
     ]
    }
   ],
   "source": [
    "pets_cont3['price'].astype(float)"
   ]
  },
  {
   "cell_type": "code",
   "execution_count": null,
   "id": "8ff61266-a9f9-4d55-b841-f2b88939c4d2",
   "metadata": {},
   "outputs": [],
   "source": [
    "(pets_cont3['price']==\"unlisted\").sum()\n"
   ]
  },
  {
   "cell_type": "code",
   "execution_count": null,
   "id": "c7473599-3968-4a5f-b6c5-b5dd393a1e2a",
   "metadata": {},
   "outputs": [],
   "source": [
    "pets_cont3.info()"
   ]
  },
  {
   "cell_type": "code",
   "execution_count": null,
   "id": "2caadafb-281c-4258-8520-d8d2e1921614",
   "metadata": {},
   "outputs": [],
   "source": [
    "pets_cont3['price'] = pd.to_numeric(pets_cont2['price'])"
   ]
  },
  {
   "cell_type": "code",
   "execution_count": null,
   "id": "e9d1f414-7346-457c-acaf-4ca9ff5eecb4",
   "metadata": {},
   "outputs": [],
   "source": [
    "pets_cont3['price'].loc[20]"
   ]
  },
  {
   "cell_type": "code",
   "execution_count": null,
   "id": "5d48d55b-33bf-46cd-adae-4b563aef38d4",
   "metadata": {},
   "outputs": [],
   "source": [
    "pets_cont3.iloc[20]"
   ]
  },
  {
   "cell_type": "code",
   "execution_count": null,
   "id": "3dc09a4b-c930-4107-8e03-55fa3dcc2368",
   "metadata": {},
   "outputs": [],
   "source": [
    "pets_cont3['price'].replace('unlisted',0, inplace=True)"
   ]
  },
  {
   "cell_type": "code",
   "execution_count": null,
   "id": "8e3edb44-4319-4377-a7b8-b67b351533be",
   "metadata": {},
   "outputs": [],
   "source": [
    "# (pets_cont2['price']=='unlisted').sum()"
   ]
  },
  {
   "cell_type": "code",
   "execution_count": null,
   "id": "947ddae6-6776-4996-8da1-af74b3eb8ae6",
   "metadata": {},
   "outputs": [],
   "source": [
    "pets_cont3['price'] = pd.to_numeric(pets_cont3['price'])"
   ]
  },
  {
   "cell_type": "code",
   "execution_count": null,
   "id": "ee0246bc-3d40-4937-b350-c772fdce1b48",
   "metadata": {},
   "outputs": [],
   "source": [
    "pets_cont3['price'].dtype"
   ]
  },
  {
   "cell_type": "code",
   "execution_count": null,
   "id": "2ec6a132-e436-4756-a7a8-40dea3fd7fa5",
   "metadata": {},
   "outputs": [],
   "source": [
    "pets_cont3.head(8)"
   ]
  },
  {
   "cell_type": "markdown",
   "id": "3c24c4b6-5a76-4906-b09f-5702a8ceb027",
   "metadata": {},
   "source": [
    "## Sales"
   ]
  },
  {
   "cell_type": "code",
   "execution_count": null,
   "id": "025b6015-b76c-4327-8d09-2f7b7fad202e",
   "metadata": {
    "scrolled": true
   },
   "outputs": [],
   "source": [
    "pets_cont3['price']"
   ]
  },
  {
   "cell_type": "code",
   "execution_count": null,
   "id": "b17bb62b-4229-448b-97ca-3bcf0a8a694d",
   "metadata": {},
   "outputs": [],
   "source": [
    "print(f\"The sales range is Minimum price: ${pets_cont2['price'].min()}, while the Maximum price: ${pets_cont2['price'].max()}\")"
   ]
  },
  {
   "cell_type": "markdown",
   "id": "e2c8ace6-4135-4cbf-be0c-c1fae36f6866",
   "metadata": {},
   "source": [
    "## Rating"
   ]
  },
  {
   "cell_type": "code",
   "execution_count": null,
   "id": "a1a4554e-d597-43ef-868c-ae778bfd168a",
   "metadata": {},
   "outputs": [],
   "source": [
    "pets_cont3['rating'].isnull().sum()"
   ]
  },
  {
   "cell_type": "code",
   "execution_count": null,
   "id": "3fad1b6c-97f5-46c2-a40d-6509c661ea53",
   "metadata": {},
   "outputs": [],
   "source": [
    "pets_cont3['rating'].fillna(0, inplace=True)"
   ]
  },
  {
   "cell_type": "code",
   "execution_count": null,
   "id": "3e0277aa-2f39-413c-8648-92f30bffe30c",
   "metadata": {},
   "outputs": [],
   "source": [
    "pets_cont3['rating'].isnull().sum()"
   ]
  },
  {
   "cell_type": "code",
   "execution_count": null,
   "id": "e8bd3a0a-dfc1-419d-9249-603061ac3dd0",
   "metadata": {},
   "outputs": [],
   "source": [
    "pets_cont3['rating'].mean()"
   ]
  },
  {
   "cell_type": "markdown",
   "id": "ac024837-8c59-43d3-a3c8-08c9cb5ad51a",
   "metadata": {},
   "source": [
    "The average rating for the business is approximately 5. This cannot be guaranteed as the rating because the null values were changed to zero values, and around 150 null values were present out of 1500 rating values"
   ]
  },
  {
   "cell_type": "code",
   "execution_count": null,
   "id": "a1d17078-2dd5-4387-bb92-60a8caaad46b",
   "metadata": {},
   "outputs": [],
   "source": [
    "pets_cont3['repeat_purchase'].isnull().sum()"
   ]
  },
  {
   "cell_type": "code",
   "execution_count": null,
   "id": "c8607cb5-d54d-4de3-94fe-865113802d9f",
   "metadata": {},
   "outputs": [],
   "source": [
    "pets_cont3['repeat_purchase'].value_counts(normalize=True)*100"
   ]
  },
  {
   "cell_type": "markdown",
   "id": "e01fcf2e-859a-4fa8-8f2d-2b18f7e50b62",
   "metadata": {},
   "source": [
    "From the result above, we can see that over 60% of the purchase are repeat_purchase; meaning majority of the customers always comes back to purchase an one animal or the other.\n",
    "While over 39% only buy once. These are denoted by 1s and 0s."
   ]
  },
  {
   "cell_type": "markdown",
   "id": "3d196beb-3143-40bc-84e7-e0dd9e4e21ff",
   "metadata": {},
   "source": [
    "# Exploratory Data Analysis"
   ]
  },
  {
   "cell_type": "code",
   "execution_count": 168,
   "id": "28352a85-a92f-4c84-9fbc-b49b88190dad",
   "metadata": {},
   "outputs": [
    {
     "name": "stdout",
     "output_type": "stream",
     "text": [
      "<class 'pandas.core.frame.DataFrame'>\n",
      "RangeIndex: 1500 entries, 0 to 1499\n",
      "Data columns (total 8 columns):\n",
      " #   Column           Non-Null Count  Dtype  \n",
      "---  ------           --------------  -----  \n",
      " 0   product_id       1500 non-null   int64  \n",
      " 1   category         1500 non-null   object \n",
      " 2   animal           1500 non-null   object \n",
      " 3   size             1500 non-null   object \n",
      " 4   price            1500 non-null   object \n",
      " 5   sales            1500 non-null   float64\n",
      " 6   rating           1350 non-null   float64\n",
      " 7   repeat_purchase  1500 non-null   int64  \n",
      "dtypes: float64(2), int64(2), object(4)\n",
      "memory usage: 93.9+ KB\n"
     ]
    }
   ],
   "source": [
    "pets_cont3.info()"
   ]
  },
  {
   "cell_type": "code",
   "execution_count": null,
   "id": "ef96435d-6cd9-4def-bc2a-aaed4c7472dd",
   "metadata": {},
   "outputs": [],
   "source": [
    "import matplotlib.pyplot as plt\n",
    "import seaborn as sns"
   ]
  },
  {
   "cell_type": "code",
   "execution_count": 188,
   "id": "ba82fb48-c299-4f8e-b9d3-919ef469d6de",
   "metadata": {},
   "outputs": [
    {
     "data": {
      "image/png": "[encoded data removed]",
      "text/plain": [
       "<Figure size 800x600 with 1 Axes>"
      ]
     },
     "metadata": {},
     "output_type": "display_data"
    }
   ],
   "source": [
    "plt.figure(figsize=(8,6))\n",
    "sns.countplot(data=pets_cont3, x=\"repeat_purchase\", hue=\"repeat_purchase\").set_title(\"Count of Repeat Purchase:\\n what products were bought repeatedly\")\n",
    "plt.ylabel(\"Frequency of Purchase\")\n",
    "plt.xlabel(\"Repeat Purchase: 1: Yes : 0: No\")\n",
    "plt.show();"
   ]
  },
  {
   "cell_type": "markdown",
   "id": "3f4b5e14-2b3e-421b-b326-2bdaf29f2389",
   "metadata": {},
   "source": [
    "The majority of the purchases are repeat_purchases; meaning that majority of the customers bought more than once."
   ]
  },
  {
   "cell_type": "code",
   "execution_count": 205,
   "id": "8a66a6e8-722d-4ba5-926a-491b75077e8f",
   "metadata": {},
   "outputs": [
    {
     "data": {
      "image/png": "[encoded data removed]",
      "text/plain": [
       "<Figure size 800x600 with 1 Axes>"
      ]
     },
     "metadata": {},
     "output_type": "display_data"
    }
   ],
   "source": [
    "plt.figure(figsize=(8,6))\n",
    "sns.countplot(data=pets_cont3, x=\"repeat_purchase\", hue=\"size\").set_title(\"Frequency of Purchase by Size of Product\")\n",
    "plt.ylabel(\"Frequency\")\n",
    "plt.xlabel(\"Repeat Purchase: 1: Yes : 0: No\")\n",
    "plt.show()"
   ]
  },
  {
   "cell_type": "markdown",
   "id": "bbfdba8f-432b-4c29-98c3-aefa9318a081",
   "metadata": {},
   "source": [
    "It can be deduced from the chart that small sized animals topped the repeat purchased chart; meaning they are more in demand than any other, this is followed by medium sized animals and then large sized animals."
   ]
  },
  {
   "cell_type": "code",
   "execution_count": 203,
   "id": "1d0bbac6-e74b-42b0-be41-3d970a849c29",
   "metadata": {},
   "outputs": [
    {
     "data": {
      "image/png": "[encoded data removed]",
      "text/plain": [
       "<Figure size 800x600 with 1 Axes>"
      ]
     },
     "metadata": {},
     "output_type": "display_data"
    }
   ],
   "source": [
    "plt.figure(figsize=(8,6))\n",
    "sns.countplot(data=pets_cont3, x=\"repeat_purchase\", hue=\"category\").set_title(\"Frequency of Purchase by category\")\n",
    "plt.ylabel(\"Frequency\")\n",
    "plt.xlabel(\"Repeat_Purchase: Yes - 1 : No - 0\")\n",
    "plt.show()"
   ]
  },
  {
   "cell_type": "markdown",
   "id": "4fd64a08-616f-47c6-aaf6-5a5cca995bca",
   "metadata": {},
   "source": [
    "We can see that Equipment amde the highest repeated purchase among the products"
   ]
  },
  {
   "cell_type": "code",
   "execution_count": 206,
   "id": "2b1e9b9a-513c-49e3-bdf1-49889b301515",
   "metadata": {},
   "outputs": [
    {
     "data": {
      "image/png": "[encoded data removed]",
      "text/plain": [
       "<Figure size 800x600 with 1 Axes>"
      ]
     },
     "metadata": {},
     "output_type": "display_data"
    }
   ],
   "source": [
    "plt.figure(figsize=(8,6))\n",
    "sns.countplot(data=pets_cont3, x=\"repeat_purchase\", hue=\"rating\").set_title(\"Frequency of Purchase by Rating\")\n",
    "plt.ylabel(\"Frequency\")\n",
    "plt.xlabel(\"Repeat Purchase: 1: Yes : 0: No\")\n",
    "plt.show()"
   ]
  },
  {
   "cell_type": "markdown",
   "id": "f455232e-90b1-4c3a-8374-c74b89bbd7e1",
   "metadata": {},
   "source": [
    "Items with ratings of 4.5 made the highest repeated purchase according to the above charts. This is also in correlation with the mean of the rating which is 4.5. Thus, we can see that the items with rating of 4.5 has the highest number of repeated purchase."
   ]
  },
  {
   "cell_type": "code",
   "execution_count": 212,
   "id": "8f94bb56-0880-4369-9293-bc341159a551",
   "metadata": {},
   "outputs": [
    {
     "data": {
      "image/png": "[encoded data removed]",
      "text/plain": [
       "<Figure size 800x600 with 1 Axes>"
      ]
     },
     "metadata": {},
     "output_type": "display_data"
    }
   ],
   "source": [
    "# plt.figure(figsize=(8,6))\n",
    "# sns.lineplot(data=pets_cont3, x=\"repeat_purchase\", y=\"rating\", color=\"green\").set_title(\"Frequency of Purchase by Category and Rating\")\n",
    "# plt.ylabel(\"Frequency\")\n",
    "# plt.xlabel(\"Repeat Purchase: 1: Yes : 0: No\")\n",
    "# plt.show()"
   ]
  },
  {
   "cell_type": "code",
   "execution_count": 213,
   "id": "19aff717-ad94-44df-9ddd-dbd8003b0031",
   "metadata": {},
   "outputs": [
    {
     "data": {
      "text/plain": [
       "<Axes: >"
      ]
     },
     "execution_count": 213,
     "metadata": {},
     "output_type": "execute_result"
    },
    {
     "data": {
      "image/png": "[encoded data removed]",
      "text/plain": [
       "<Figure size 640x480 with 1 Axes>"
      ]
     },
     "metadata": {},
     "output_type": "display_data"
    }
   ],
   "source": [
    "pets_cont3['sales'].hist()"
   ]
  },
  {
   "cell_type": "code",
   "execution_count": null,
   "id": "2e00fb99-2640-4673-ac80-532f935aeaae",
   "metadata": {},
   "outputs": [],
   "source": []
  }
 ],
 "metadata": {
  "kernelspec": {
   "display_name": "Python 3 (ipykernel)",
   "language": "python",
   "name": "python3"
  },
  "language_info": {
   "codemirror_mode": {
    "name": "ipython",
    "version": 3
   },
   "file_extension": ".py",
   "mimetype": "text/x-python",
   "name": "python",
   "nbconvert_exporter": "python",
   "pygments_lexer": "ipython3",
   "version": "3.12.4"
  }
 },
 "nbformat": 4,
 "nbformat_minor": 5
}
